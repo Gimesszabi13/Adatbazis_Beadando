{
 "cells": [
  {
   "attachments": {},
   "cell_type": "markdown",
   "metadata": {},
   "source": [
    "1. Átigazolási időszakonként átlagosan mennyi volt az átigazolási ár:"
   ]
  },
  {
   "cell_type": "code",
   "execution_count": null,
   "metadata": {},
   "outputs": [],
   "source": [
    "db.rendezett.aggregate([{$group: {_id: \"$igazolas.season\", average: {$avg: \"$igazolas.transferFee_GBP\"}}}])"
   ]
  },
  {
   "attachments": {},
   "cell_type": "markdown",
   "metadata": {},
   "source": [
    "2. Sztárfocisták listázása (300.000 GBP feletti átigazolási értékkel rendelkezők), csak a név és az életkor jelenjen meg: "
   ]
  },
  {
   "cell_type": "code",
   "execution_count": null,
   "metadata": {},
   "outputs": [],
   "source": [
    "db.rendezett.find({\n",
    "  \"igazolas.transferFee_GBP\": {\"$gt\": 300000}\n",
    "},\n",
    "{\n",
    "  \"jatekos.playerName\": 1,\n",
    "  \"jatekos.playerAge\": 1,\n",
    "  \"_id\":0\n",
    "})"
   ]
  },
  {
   "attachments": {},
   "cell_type": "markdown",
   "metadata": {},
   "source": [
    "3. Összesen mennyi értékben történt átigazolás az egész adatbázisban (2009/2010-es idénytől a 2017/2018-as idényig): "
   ]
  },
  {
   "cell_type": "code",
   "execution_count": null,
   "metadata": {},
   "outputs": [],
   "source": [
    "db.rendezett.aggregate([{$group: {_id: null, total: {$sum: \"$igazolas.transferFee_GBP\"}}}])"
   ]
  },
  {
   "attachments": {},
   "cell_type": "markdown",
   "metadata": {},
   "source": [
    "4. Hány 18 éves brazil labdarúgó volt átigazolásban érintett: "
   ]
  },
  {
   "cell_type": "code",
   "execution_count": null,
   "metadata": {},
   "outputs": [],
   "source": [
    "db.rendezett.aggregate([\n",
    "    {\n",
    "      $match: {\n",
    "        \"jatekos.playerNationality\": \"Brazil\",\n",
    "        \"jatekos.playerAge\": 18\n",
    "      }\n",
    "    },\n",
    "    {\n",
    "      $count: \"totalPlayers\"\n",
    "    }\n",
    "  ])"
   ]
  },
  {
   "attachments": {},
   "cell_type": "markdown",
   "metadata": {},
   "source": [
    "5. A legtöbb eladást végző csapat: "
   ]
  },
  {
   "cell_type": "code",
   "execution_count": null,
   "metadata": {},
   "outputs": [],
   "source": [
    "db.rendezett.aggregate([\n",
    "    {\n",
    "      $group: {\n",
    "        _id: \"$klub.sellerClubName\",\n",
    "        eladasok: { $sum: 1 }\n",
    "      }\n",
    "    },\n",
    "    {\n",
    "      $sort: { eladasok: -1 }\n",
    "    },\n",
    "    {\n",
    "      $limit: 1\n",
    "    }\n",
    "  ])"
   ]
  },
  {
   "attachments": {},
   "cell_type": "markdown",
   "metadata": {},
   "source": [
    "6. A legtöbb vételt végző csapat: "
   ]
  },
  {
   "cell_type": "code",
   "execution_count": null,
   "metadata": {},
   "outputs": [],
   "source": [
    "db.rendezett.aggregate([\n",
    "    {\n",
    "      $group: {\n",
    "        _id: \"$klub.buyerClubName\",\n",
    "        vetelek: { $sum: 1 }\n",
    "      }\n",
    "    },\n",
    "    {\n",
    "      $sort: { vetelek: -1 }\n",
    "    },\n",
    "    {\n",
    "      $limit: 1\n",
    "    }\n",
    "  ])"
   ]
  },
  {
   "attachments": {},
   "cell_type": "markdown",
   "metadata": {},
   "source": [
    "7. Ki az, aki a legtöbbször igazolt át: "
   ]
  },
  {
   "cell_type": "code",
   "execution_count": null,
   "metadata": {},
   "outputs": [],
   "source": [
    "db.rendezett.aggregate([\n",
    "   {\n",
    "     $group: {\n",
    "       _id: \"$jatekos.playerName\",\n",
    "       igazolasok: { $sum: 1 }\n",
    "     }\n",
    "   },\n",
    "   {\n",
    "     $sort: { igazolasok: -1 }\n",
    "   },\n",
    "   {\n",
    "     $limit: 1\n",
    "   }\n",
    " ])"
   ]
  },
  {
   "attachments": {},
   "cell_type": "markdown",
   "metadata": {},
   "source": [
    "8. Hány olyan focista van, akik játékjoga 0 GBP-t ér: "
   ]
  },
  {
   "cell_type": "code",
   "execution_count": null,
   "metadata": {},
   "outputs": [],
   "source": [
    "db.rendezett.aggregate([\n",
    "   {\n",
    "     $match: {\n",
    "       \"igazolas.transferFee_GBP\": 0\n",
    "     }\n",
    "   },\n",
    "   {\n",
    "     $count: \"ingyenes_igazolasok\"\n",
    "   }\n",
    " ])"
   ]
  },
  {
   "attachments": {},
   "cell_type": "markdown",
   "metadata": {},
   "source": [
    "9. Átlagos átigazolási ár (a nulla értékek nélkül): "
   ]
  },
  {
   "cell_type": "code",
   "execution_count": null,
   "metadata": {},
   "outputs": [],
   "source": [
    "db.rendezett.aggregate([\n",
    "   {\n",
    "     $match: {\n",
    "       \"igazolas.transferFee_GBP\": { $gt: 0 }\n",
    "     }\n",
    "   },\n",
    "   {\n",
    "     $group: {\n",
    "       _id: null,\n",
    "       atlagos_dij: { $avg: \"$igazolas.transferFee_GBP\" }\n",
    "     }\n",
    "   }\n",
    " ])"
   ]
  },
  {
   "attachments": {},
   "cell_type": "markdown",
   "metadata": {},
   "source": [
    "10. Koronkénti átlagos igazolási ár:"
   ]
  },
  {
   "cell_type": "code",
   "execution_count": null,
   "metadata": {},
   "outputs": [],
   "source": [
    "db.rendezett.aggregate([{$group: {_id: \"$jatekos.playerAge\", average: {$avg: \"$igazolas.transferFee_GBP\"}}}])"
   ]
  }
 ],
 "metadata": {
  "language_info": {
   "name": "python"
  }
 },
 "nbformat": 4,
 "nbformat_minor": 2
}
